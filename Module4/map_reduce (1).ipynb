{
  "cells": [
    {
      "cell_type": "markdown",
      "id": "4cd4f701",
      "metadata": {
        "editable": true,
        "tags": [],
        "id": "4cd4f701"
      },
      "source": [
        "[![Open in Colab](https://colab.research.google.com/assets/colab-badge.svg)](https://colab.research.google.com/github/langchain-ai/langchain-academy/blob/main/module-4/map-reduce.ipynb) [![Open in LangChain Academy](https://cdn.prod.website-files.com/65b8cd72835ceeacd4449a53/66e9eba12c7b7688aa3dbb5e_LCA-badge-green.svg)](https://academy.langchain.com/courses/take/intro-to-langgraph/lessons/58239947-lesson-3-map-reduce)"
      ]
    },
    {
      "cell_type": "markdown",
      "id": "36737349-c949-4d64-9aa3-3767cbd02ad1",
      "metadata": {
        "editable": true,
        "tags": [],
        "id": "36737349-c949-4d64-9aa3-3767cbd02ad1"
      },
      "source": [
        "# Map-reduce\n",
        "\n",
        "## Review\n",
        "\n",
        "We're building up to a multi-agent research assistant that ties together all of the modules from this course.\n",
        "\n",
        "To build this multi-agent assistant, we've been introducing a few LangGraph controllability topics.\n",
        "\n",
        "We just covered parallelization and sub-graphs.\n",
        "\n",
        "## Goals\n",
        "\n",
        "Now, we're going to cover [map reduce](https://docs.langchain.com/oss/python/langgraph/use-graph-api#map-reduce-and-the-send-api)."
      ]
    },
    {
      "cell_type": "code",
      "execution_count": 1,
      "id": "f24e95c8",
      "metadata": {
        "editable": true,
        "tags": [],
        "id": "f24e95c8"
      },
      "outputs": [],
      "source": [
        "%%capture --no-stderr\n",
        "%pip install -U langchain_openai langgraph"
      ]
    },
    {
      "cell_type": "code",
      "execution_count": 2,
      "id": "ff57cbf7",
      "metadata": {
        "colab": {
          "base_uri": "https://localhost:8080/"
        },
        "id": "ff57cbf7",
        "outputId": "9621d59f-169e-4347-ada8-3f0aebfc1d43"
      },
      "outputs": [
        {
          "name": "stdout",
          "output_type": "stream",
          "text": [
            "OPENAI_API_KEY: ··········\n"
          ]
        }
      ],
      "source": [
        "import os, getpass\n",
        "\n",
        "def _set_env(var: str):\n",
        "    if not os.environ.get(var):\n",
        "        os.environ[var] = getpass.getpass(f\"{var}: \")\n",
        "\n",
        "_set_env(\"OPENAI_API_KEY\")"
      ]
    },
    {
      "cell_type": "markdown",
      "id": "cbcd868a",
      "metadata": {
        "editable": true,
        "tags": [],
        "id": "cbcd868a"
      },
      "source": [
        "We'll use [LangSmith](https://docs.langchain.com/langsmith/home) for [tracing](https://docs.langchain.com/langsmith/observability-concepts)."
      ]
    },
    {
      "cell_type": "code",
      "execution_count": 3,
      "id": "9fdc647f",
      "metadata": {
        "editable": true,
        "tags": [],
        "colab": {
          "base_uri": "https://localhost:8080/"
        },
        "id": "9fdc647f",
        "outputId": "88b31ccd-e6ce-4e88-a9bc-6a29ba7bb9dc"
      },
      "outputs": [
        {
          "name": "stdout",
          "output_type": "stream",
          "text": [
            "LANGSMITH_API_KEY: ··········\n"
          ]
        }
      ],
      "source": [
        "_set_env(\"LANGSMITH_API_KEY\")\n",
        "os.environ[\"LANGSMITH_TRACING\"] = \"true\"\n",
        "os.environ[\"LANGSMITH_PROJECT\"] = \"langchain-academy\""
      ]
    },
    {
      "cell_type": "markdown",
      "id": "2bbe9b9f-4375-4bca-8e32-7d57cb861469",
      "metadata": {
        "id": "2bbe9b9f-4375-4bca-8e32-7d57cb861469"
      },
      "source": [
        "## Problem\n",
        "\n",
        "Map-reduce operations are essential for efficient task decomposition and parallel processing.\n",
        "\n",
        "It has two phases:\n",
        "\n",
        "(1) `Map` - Break a task into smaller sub-tasks, processing each sub-task in parallel.\n",
        "\n",
        "(2) `Reduce` - Aggregate the results across all of the completed, parallelized sub-tasks.\n",
        "\n",
        "Let's design a system that will do two things:\n",
        "\n",
        "(1) `Map` - Create a set of jokes about a topic.\n",
        "\n",
        "(2) `Reduce` - Pick the best joke from the list.\n",
        "\n",
        "We'll use an LLM to do the job generation and selection."
      ]
    },
    {
      "cell_type": "code",
      "execution_count": 5,
      "id": "994cf903-1ed6-4ae2-b32a-7891a2808f81",
      "metadata": {
        "id": "994cf903-1ed6-4ae2-b32a-7891a2808f81"
      },
      "outputs": [],
      "source": [
        "from langchain_openai import ChatOpenAI\n",
        "\n",
        "# Prompts we will use\n",
        "subjects_prompt = \"\"\"Generate a list of 5 sub-topics that are all related to this overall topic: {topic}.\"\"\"\n",
        "\n",
        "fact_prompt = \"\"\"Generate an interesting and accurate fact related to {subject}.\"\"\"\n",
        "\n",
        "best_fact_prompt = \"\"\"Below are a bunch of facts about {topic}. Select the best one! Return the ID of the best one, starting from 0 as the ID for the first fact. Facts: {facts}\"\"\"\n",
        "\n",
        "# LLM model\n",
        "model = ChatOpenAI(model=\"gpt-4o\", temperature=0)\n"
      ]
    },
    {
      "cell_type": "markdown",
      "id": "f3b883cc-3469-4e96-b1a4-deadf7bf3ce5",
      "metadata": {
        "id": "f3b883cc-3469-4e96-b1a4-deadf7bf3ce5"
      },
      "source": [
        "## State\n",
        "\n",
        "### Parallelizing joke generation\n",
        "\n",
        "First, let's define the entry point of the graph that will:\n",
        "\n",
        "* Take a user input topic\n",
        "* Produce a list of joke topics from it\n",
        "* Send each joke topic to our above joke generation node\n",
        "\n",
        "Our state has a `jokes` key, which will accumulate jokes from parallelized joke generation"
      ]
    },
    {
      "cell_type": "code",
      "execution_count": 6,
      "id": "099218ca-ee78-4291-95a1-87ee61382e3b",
      "metadata": {
        "id": "099218ca-ee78-4291-95a1-87ee61382e3b"
      },
      "outputs": [],
      "source": [
        "import operator\n",
        "from typing import Annotated\n",
        "from typing_extensions import TypedDict\n",
        "from pydantic import BaseModel\n",
        "\n",
        "class Subjects(BaseModel):\n",
        "    subjects: list[str]\n",
        "\n",
        "class BestFact(BaseModel):\n",
        "    id: int\n",
        "\n",
        "class OverallState(TypedDict):\n",
        "    topic: str\n",
        "    subjects: list\n",
        "    facts: Annotated[list, operator.add]\n",
        "    best_selected_fact: str\n"
      ]
    },
    {
      "cell_type": "markdown",
      "id": "c7176d1c-4a88-4b0f-a960-ee04a45279bd",
      "metadata": {
        "id": "c7176d1c-4a88-4b0f-a960-ee04a45279bd"
      },
      "source": [
        "Generate subjects for jokes."
      ]
    },
    {
      "cell_type": "code",
      "execution_count": 7,
      "id": "45010efd-ad31-4daa-b77e-aaec79ef0309",
      "metadata": {
        "id": "45010efd-ad31-4daa-b77e-aaec79ef0309"
      },
      "outputs": [],
      "source": [
        "def generate_topics(state: OverallState):\n",
        "    prompt = subjects_prompt.format(topic=state[\"topic\"])\n",
        "    response = model.with_structured_output(Subjects).invoke(prompt)\n",
        "    return {\"subjects\": response.subjects}"
      ]
    },
    {
      "cell_type": "markdown",
      "id": "e5296bb0-c163-4e5c-8181-1e305b37442a",
      "metadata": {
        "editable": true,
        "tags": [],
        "id": "e5296bb0-c163-4e5c-8181-1e305b37442a"
      },
      "source": [
        "Here is the magic: we use the  [Send](https://docs.langchain.com/oss/python/langgraph/graph-api/#send) to create a joke for each subject.\n",
        "\n",
        "This is very useful! It can automatically parallelize joke generation for any number of subjects.\n",
        "\n",
        "* `generate_joke`: the name of the node in the graph\n",
        "* `{\"subject\": s`}: the state to send\n",
        "\n",
        "`Send` allow you to pass any state that you want to `generate_joke`! It does not have to align with `OverallState`.\n",
        "\n",
        "In this case, `generate_joke` is using its own internal state, and we can populate this via `Send`."
      ]
    },
    {
      "cell_type": "code",
      "execution_count": 8,
      "id": "bc83e575-11f6-41a9-990a-adb571bcda06",
      "metadata": {
        "editable": true,
        "tags": [],
        "id": "bc83e575-11f6-41a9-990a-adb571bcda06"
      },
      "outputs": [],
      "source": [
        "from langgraph.types import Send\n",
        "def continue_to_facts(state: OverallState):\n",
        "    return [Send(\"generate_fact\", {\"subject\": s}) for s in state[\"subjects\"]]"
      ]
    },
    {
      "cell_type": "markdown",
      "id": "9847192d-d358-411e-90c0-f06be0738717",
      "metadata": {
        "id": "9847192d-d358-411e-90c0-f06be0738717"
      },
      "source": [
        "### Joke generation (map)\n",
        "\n",
        "Now, we just define a node that will create our jokes, `generate_joke`!\n",
        "\n",
        "We write them back out to `jokes` in `OverallState`!\n",
        "\n",
        "This key has a reducer that will combine lists."
      ]
    },
    {
      "cell_type": "code",
      "execution_count": 9,
      "id": "bcddc567-73d3-4fb3-bfc5-1bea538f2aab",
      "metadata": {
        "id": "bcddc567-73d3-4fb3-bfc5-1bea538f2aab"
      },
      "outputs": [],
      "source": [
        "class FactState(TypedDict):\n",
        "    subject: str\n",
        "\n",
        "class Fact(BaseModel):\n",
        "    fact: str\n",
        "\n",
        "def generate_fact(state: FactState):\n",
        "    prompt = fact_prompt.format(subject=state[\"subject\"])\n",
        "    response = model.with_structured_output(Fact).invoke(prompt)\n",
        "    return {\"facts\": [response.fact]}"
      ]
    },
    {
      "cell_type": "markdown",
      "id": "02960657-d174-4076-99a8-b3f9eea015f4",
      "metadata": {
        "id": "02960657-d174-4076-99a8-b3f9eea015f4"
      },
      "source": [
        "Best fact selection (reduce)\n",
        "\n",
        "Now, we add logic to pick the best joke."
      ]
    },
    {
      "cell_type": "code",
      "execution_count": 10,
      "id": "8d672870-75e3-4307-bda0-c41a86cbbaff",
      "metadata": {
        "id": "8d672870-75e3-4307-bda0-c41a86cbbaff"
      },
      "outputs": [],
      "source": [
        "def best_fact(state: OverallState):\n",
        "    facts = \"\\n\\n\".join(state[\"facts\"])\n",
        "    prompt = best_fact_prompt.format(topic=state[\"topic\"], facts=facts)\n",
        "    response = model.with_structured_output(BestFact).invoke(prompt)\n",
        "    return {\"best_selected_fact\": state[\"facts\"][response.id]}"
      ]
    },
    {
      "cell_type": "markdown",
      "id": "837cd12e-5bff-426e-97f4-c774df998cfb",
      "metadata": {
        "id": "837cd12e-5bff-426e-97f4-c774df998cfb"
      },
      "source": [
        "## Compile"
      ]
    },
    {
      "cell_type": "code",
      "execution_count": 11,
      "id": "2ae6be4b-144e-483c-88ad-ce86d6477a0d",
      "metadata": {
        "colab": {
          "base_uri": "https://localhost:8080/",
          "height": 449
        },
        "id": "2ae6be4b-144e-483c-88ad-ce86d6477a0d",
        "outputId": "75e7264b-c14f-4e1e-c633-83ba4b0ed7fa"
      },
      "outputs": [
        {
          "output_type": "execute_result",
          "data": {
            "image/png": "[encoded data removed]",
            "text/plain": [
              "<IPython.core.display.Image object>"
            ]
          },
          "metadata": {},
          "execution_count": 11
        }
      ],
      "source": [
        "from IPython.display import Image\n",
        "from langgraph.graph import END, StateGraph, START\n",
        "\n",
        "# Construct the graph: here we put everything together to construct our graph\n",
        "graph = StateGraph(OverallState)\n",
        "graph.add_node(\"generate_topics\", generate_topics)\n",
        "graph.add_node(\"generate_fact\", generate_fact)\n",
        "graph.add_node(\"best_fact\", best_fact)\n",
        "\n",
        "graph.add_edge(START, \"generate_topics\")\n",
        "graph.add_conditional_edges(\"generate_topics\", continue_to_facts, [\"generate_fact\"])\n",
        "graph.add_edge(\"generate_fact\", \"best_fact\")\n",
        "graph.add_edge(\"best_fact\", END)\n",
        "\n",
        "# Compile the graph\n",
        "app = graph.compile()\n",
        "Image(app.get_graph().draw_mermaid_png())"
      ]
    },
    {
      "cell_type": "code",
      "execution_count": 12,
      "id": "e21dc7c9-0add-4125-be76-af701adb874a",
      "metadata": {
        "colab": {
          "base_uri": "https://localhost:8080/"
        },
        "id": "e21dc7c9-0add-4125-be76-af701adb874a",
        "outputId": "c907d446-bd39-4858-998c-a8817640df2d"
      },
      "outputs": [
        {
          "output_type": "stream",
          "name": "stdout",
          "text": [
            "{'generate_topics': {'subjects': ['Evolution of Bollywood Music: From Classical to Contemporary', 'Influence of Bollywood Songs on Global Music Trends', 'Iconic Bollywood Playback Singers and Their Contributions', 'The Role of Bollywood Songs in Indian Cinema Storytelling', 'Cultural Significance of Bollywood Songs in Indian Festivals and Celebrations']}}\n",
            "{'generate_fact': {'facts': ['Lata Mangeshkar, often referred to as the \"Nightingale of India,\" holds the Guinness World Record for the most recorded artist in music history. Over her illustrious career spanning seven decades, she lent her voice to over 30,000 songs in more than 36 languages, making her an iconic figure in Bollywood and a symbol of India\\'s rich musical heritage. Her contributions have not only shaped the soundscape of Indian cinema but have also left an indelible mark on the global music industry.']}}\n",
            "{'generate_fact': {'facts': ['Bollywood songs have significantly influenced global music trends, particularly in the realm of fusion music. One notable example is the 2003 hit song \"Mundian To Bach Ke\" by Panjabi MC, which seamlessly blended traditional Punjabi bhangra beats with hip-hop elements. This track gained international acclaim, reaching the top 10 charts in multiple countries, including the UK, Germany, and Italy. Its success paved the way for more cross-cultural collaborations, highlighting Bollywood\\'s impact on the global music scene.']}}\n",
            "{'generate_fact': {'facts': [\"The evolution of Bollywood music from classical to contemporary has been significantly influenced by technological advancements and cultural exchanges. In the early days, Bollywood music was heavily inspired by Indian classical and folk traditions, with live orchestras and classical instruments like the sitar, tabla, and harmonium being predominant.\\n\\nHowever, as technology advanced, the 1970s and 1980s saw the introduction of electronic instruments and synthesizers, which brought a new sound to Bollywood music. This era marked the beginning of disco and pop influences, with composers like Bappi Lahiri leading the charge.\\n\\nThe 1990s and 2000s witnessed a fusion of global music styles, including hip-hop, reggae, and rock, thanks to increased globalization and the influence of the Indian diaspora. This period also saw the rise of playback singers like A.R. Rahman, who incorporated Western orchestration and digital production techniques, creating a unique blend that appealed to both Indian and international audiences.\\n\\nToday, Bollywood music continues to evolve, embracing genres like EDM, trap, and reggaeton, reflecting the dynamic and ever-changing landscape of global music trends. This evolution highlights Bollywood's ability to adapt and innovate while still maintaining its cultural roots.\"]}}\n",
            "{'generate_fact': {'facts': [\"Bollywood songs play a pivotal role in Indian festivals and celebrations, serving as a bridge between tradition and modernity. These songs often incorporate traditional Indian music elements, such as classical ragas and folk tunes, while blending them with contemporary beats and rhythms. This fusion not only preserves cultural heritage but also makes it accessible and appealing to younger generations.\\n\\nDuring festivals like Diwali, Holi, and Navratri, Bollywood songs become an integral part of the festivities. For instance, during Navratri, the traditional Garba and Dandiya dances are often performed to Bollywood tracks that have been adapted to include traditional beats, making them a staple at these events. Similarly, Holi celebrations are incomplete without the vibrant and energetic Bollywood songs that capture the essence of the festival of colors.\\n\\nMoreover, Bollywood songs often reflect the themes and stories associated with these festivals, enhancing the cultural experience. They are played at family gatherings, community events, and public celebrations, creating a sense of unity and shared cultural identity among participants.\\n\\nIn essence, Bollywood songs are not just entertainment; they are a cultural phenomenon that enriches Indian festivals, ensuring that traditions are celebrated with a modern twist, keeping them alive and relevant in today's world.\"]}}\n",
            "{'generate_fact': {'facts': ['Bollywood songs are not just musical interludes but integral components of storytelling in Indian cinema. They often serve as narrative devices that:\\n\\n1. **Advance the Plot**: Songs can move the story forward by revealing character motivations, emotions, or pivotal plot points. For instance, a romantic song might depict the blossoming love between two characters, while a melancholic tune might underscore a character\\'s internal conflict.\\n\\n2. **Express Unspoken Emotions**: In a culture where verbal expression of emotions might be restrained, songs provide a platform for characters to express feelings that they might not articulate in dialogue. This is particularly evident in love stories, where songs convey the depth of affection or heartbreak.\\n\\n3. **Enhance Cultural Context**: Bollywood songs often incorporate traditional music styles, dance forms, and cultural references, enriching the film\\'s cultural setting and making it relatable to diverse audiences.\\n\\n4. **Create Memorable Moments**: Iconic songs can become synonymous with the films they are part of, creating lasting memories for audiences. For example, \"Kabhi Khushi Kabhie Gham\" is remembered as much for its storyline as for its memorable songs.\\n\\n5. **Symbolize Themes**: Songs can encapsulate the central themes of a film, such as freedom, love, or social change, making them a powerful tool for thematic storytelling.\\n\\nIn essence, Bollywood songs are not mere entertainment but a vital storytelling element that enriches the cinematic experience, making Indian films unique in their narrative style.']}}\n",
            "{'best_fact': {'best_selected_fact': 'Lata Mangeshkar, often referred to as the \"Nightingale of India,\" holds the Guinness World Record for the most recorded artist in music history. Over her illustrious career spanning seven decades, she lent her voice to over 30,000 songs in more than 36 languages, making her an iconic figure in Bollywood and a symbol of India\\'s rich musical heritage. Her contributions have not only shaped the soundscape of Indian cinema but have also left an indelible mark on the global music industry.'}}\n"
          ]
        }
      ],
      "source": [
        "# Call the graph: here we call it to generate a list of jokes\n",
        "for s in app.stream({\"topic\": \"bollywood songs\"}):\n",
        "    print(s)"
      ]
    },
    {
      "cell_type": "markdown",
      "id": "2a96517e-77ab-46e2-95e2-79168c044e9c",
      "metadata": {
        "id": "2a96517e-77ab-46e2-95e2-79168c044e9c"
      },
      "source": [
        "## Studio\n",
        "\n",
        "**⚠️ Notice**\n",
        "\n",
        "Since filming these videos, we've updated Studio so that it can now be run locally and accessed through your browser. This is the preferred way to run Studio instead of using the Desktop App shown in the video. It is now called _LangSmith Studio_ instead of _LangGraph Studio_. Detailed setup instructions are available in the \"Getting Setup\" guide at the start of the course. You can find a description of Studio [here](https://docs.langchain.com/langsmith/studio), and specific details for local deployment [here](https://docs.langchain.com/langsmith/quick-start-studio#local-development-server).  \n",
        "To start the local development server, run the following command in your terminal in the `/studio` directory in this module:\n",
        "\n",
        "```\n",
        "langgraph dev\n",
        "```\n",
        "\n",
        "You should see the following output:\n",
        "```\n",
        "- 🚀 API: http://127.0.0.1:2024\n",
        "- 🎨 Studio UI: https://smith.langchain.com/studio/?baseUrl=http://127.0.0.1:2024\n",
        "- 📚 API Docs: http://127.0.0.1:2024/docs\n",
        "```\n",
        "\n",
        "Open your browser and navigate to the **Studio UI** URL shown above.\n",
        "\n",
        "Let's load the above graph in the Studio UI, which uses `module-4/studio/map_reduce.py` set in `module-4/studio/langgraph.json`."
      ]
    }
  ],
  "metadata": {
    "kernelspec": {
      "display_name": "Python 3 (ipykernel)",
      "language": "python",
      "name": "python3"
    },
    "language_info": {
      "codemirror_mode": {
        "name": "ipython",
        "version": 3
      },
      "file_extension": ".py",
      "mimetype": "text/x-python",
      "name": "python",
      "nbconvert_exporter": "python",
      "pygments_lexer": "ipython3",
      "version": "3.13.5"
    },
    "colab": {
      "provenance": []
    }
  },
  "nbformat": 4,
  "nbformat_minor": 5
}